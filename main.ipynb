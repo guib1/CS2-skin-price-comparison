{
  "cells": [
    {
      "cell_type": "markdown",
      "metadata": {
        "id": "nvMUQ3euf5Ex"
      },
      "source": [
        "# **COMPARAÇÂO DE PREÇOS SKINS CS2 (STEAM X THIRDPARTY)**"
      ]
    },
    {
      "cell_type": "code",
      "execution_count": null,
      "metadata": {
        "id": "chnFGhzwe-1d"
      },
      "outputs": [],
      "source": [
        "import os\n",
        "import requests "
      ]
    },
    {
      "cell_type": "code",
      "execution_count": 28,
      "metadata": {},
      "outputs": [],
      "source": [
        "#SteamWebApi API Key\n",
        "with open('key.txt', 'r') as file:\n",
        "    api_key = file.read()\n",
        "url = f\"https://www.steamwebapi.com/steam/api/item?key={api_key}\"\n",
        "\n",
        "response = requests.get(url)"
      ]
    },
    {
      "cell_type": "code",
      "execution_count": null,
      "metadata": {},
      "outputs": [],
      "source": []
    }
  ],
  "metadata": {
    "colab": {
      "provenance": []
    },
    "kernelspec": {
      "display_name": "Python 3",
      "name": "python3"
    },
    "language_info": {
      "codemirror_mode": {
        "name": "ipython",
        "version": 3
      },
      "file_extension": ".py",
      "mimetype": "text/x-python",
      "name": "python",
      "nbconvert_exporter": "python",
      "pygments_lexer": "ipython3",
      "version": "3.8.10"
    }
  },
  "nbformat": 4,
  "nbformat_minor": 0
}
